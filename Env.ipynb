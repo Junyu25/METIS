{
 "cells": [
  {
   "cell_type": "code",
   "execution_count": null,
   "id": "d3b41706-eca9-4980-b83c-fd3f74ad0eb4",
   "metadata": {},
   "outputs": [],
   "source": []
  },
  {
   "cell_type": "code",
   "execution_count": null,
   "id": "66a01bfc-6994-4e60-91d5-e12ad4f944f7",
   "metadata": {},
   "outputs": [],
   "source": [
    "mamba create -n metis scikit-learn"
   ]
  },
  {
   "cell_type": "markdown",
   "id": "a2b73240-4744-49f0-9f15-22544aa47693",
   "metadata": {},
   "source": [
    "scikit-learn"
   ]
  },
  {
   "cell_type": "markdown",
   "id": "bbe29e6b-1439-4003-9bfd-6e037647cf35",
   "metadata": {},
   "source": [
    "https://scikit-learn.org/stable/install.html"
   ]
  },
  {
   "cell_type": "code",
   "execution_count": null,
   "id": "7f3a7eaf-2b0f-4b06-b003-8eb6bcf91dc3",
   "metadata": {},
   "outputs": [],
   "source": [
    "conda install -c conda-forge scikit-learn"
   ]
  },
  {
   "cell_type": "markdown",
   "id": "71d24200-1b3c-48e9-ae22-cf5a408981f6",
   "metadata": {},
   "source": [
    "xgboost"
   ]
  },
  {
   "cell_type": "markdown",
   "id": "5908c5d5-86a0-4b64-b908-4d00c9cb627a",
   "metadata": {},
   "source": [
    "https://xgboost.readthedocs.io/en/stable/install.html#conda"
   ]
  },
  {
   "cell_type": "code",
   "execution_count": null,
   "id": "62f4635c-dc32-47a8-8d4d-a19b37173124",
   "metadata": {},
   "outputs": [],
   "source": [
    "conda install -c conda-forge py-xgboost"
   ]
  },
  {
   "cell_type": "markdown",
   "id": "3cf9efbf-2979-456d-b547-0567e0edd829",
   "metadata": {},
   "source": [
    "seaborn"
   ]
  },
  {
   "cell_type": "code",
   "execution_count": null,
   "id": "703ef180-3123-48b0-be04-43f2531e6758",
   "metadata": {},
   "outputs": [],
   "source": [
    "conda install seaborn"
   ]
  },
  {
   "cell_type": "code",
   "execution_count": null,
   "id": "49eea578-97e1-4f99-bf69-399dc6621cad",
   "metadata": {},
   "outputs": [],
   "source": [
    "https://seaborn.pydata.org/installing.html"
   ]
  },
  {
   "cell_type": "code",
   "execution_count": null,
   "id": "12dcf890-7f17-4700-9210-e7887a08fc1a",
   "metadata": {},
   "outputs": [],
   "source": []
  },
  {
   "cell_type": "markdown",
   "id": "01967c6a-1e2d-4bc8-b7af-ea48819a55b5",
   "metadata": {},
   "source": [
    "https://scipy.org/install/"
   ]
  },
  {
   "cell_type": "code",
   "execution_count": null,
   "id": "4832cfbb-05ab-4feb-903b-8f714929d185",
   "metadata": {},
   "outputs": [],
   "source": []
  },
  {
   "cell_type": "code",
   "execution_count": null,
   "id": "24c8fe91-c21c-4597-b926-55cf4d462b76",
   "metadata": {},
   "outputs": [],
   "source": []
  },
  {
   "cell_type": "code",
   "execution_count": null,
   "id": "a6f48455-634b-4e2d-8d05-9ef18ff94db6",
   "metadata": {},
   "outputs": [],
   "source": [
    "mamba install -c anaconda ipykernel"
   ]
  },
  {
   "cell_type": "code",
   "execution_count": null,
   "id": "9308c53e-3cc0-49b0-81c0-a9f159dd00a7",
   "metadata": {},
   "outputs": [],
   "source": [
    "python -m ipykernel install --user --name metis --display-name \"METIS\""
   ]
  },
  {
   "cell_type": "code",
   "execution_count": null,
   "id": "11bab342-7a14-4366-b266-577dfa3b1f4f",
   "metadata": {},
   "outputs": [],
   "source": []
  },
  {
   "cell_type": "code",
   "execution_count": null,
   "id": "f4d0d6aa-853d-40c0-9e54-8f0a759fbfac",
   "metadata": {},
   "outputs": [],
   "source": [
    "mamba install -c conda-forge keras"
   ]
  },
  {
   "cell_type": "code",
   "execution_count": null,
   "id": "c19a5e5e-3098-41b9-9d52-7754263422f0",
   "metadata": {},
   "outputs": [],
   "source": [
    "tensorflow"
   ]
  }
 ],
 "metadata": {
  "kernelspec": {
   "display_name": "Bash",
   "language": "bash",
   "name": "bash"
  },
  "language_info": {
   "name": ""
  }
 },
 "nbformat": 4,
 "nbformat_minor": 5
}
